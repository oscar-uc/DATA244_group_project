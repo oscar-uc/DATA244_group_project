{
 "cells": [
  {
   "cell_type": "markdown",
   "metadata": {},
   "source": [
    "# Joining Weather Events & Motor Vehicle Claims"
   ]
  },
  {
   "cell_type": "markdown",
   "metadata": {},
   "source": [
    "### Intro/ Questions\n"
   ]
  },
  {
   "cell_type": "code",
   "execution_count": null,
   "metadata": {},
   "outputs": [],
   "source": []
  },
  {
   "cell_type": "markdown",
   "metadata": {},
   "source": [
    "### Libraries and importng csvs"
   ]
  },
  {
   "cell_type": "code",
   "execution_count": 1,
   "metadata": {},
   "outputs": [
    {
     "name": "stderr",
     "output_type": "stream",
     "text": [
      "── \u001b[1mAttaching packages\u001b[22m ─────────────────────────────────────── tidyverse 1.3.0 ──\n",
      "\n",
      "\u001b[32m✔\u001b[39m \u001b[34mggplot2\u001b[39m 3.3.2     \u001b[32m✔\u001b[39m \u001b[34mpurrr  \u001b[39m 0.3.4\n",
      "\u001b[32m✔\u001b[39m \u001b[34mtibble \u001b[39m 3.0.3     \u001b[32m✔\u001b[39m \u001b[34mdplyr  \u001b[39m 1.0.2\n",
      "\u001b[32m✔\u001b[39m \u001b[34mtidyr  \u001b[39m 1.1.1     \u001b[32m✔\u001b[39m \u001b[34mstringr\u001b[39m 1.4.0\n",
      "\u001b[32m✔\u001b[39m \u001b[34mreadr  \u001b[39m 1.3.1     \u001b[32m✔\u001b[39m \u001b[34mforcats\u001b[39m 0.5.0\n",
      "\n",
      "── \u001b[1mConflicts\u001b[22m ────────────────────────────────────────── tidyverse_conflicts() ──\n",
      "\u001b[31m✖\u001b[39m \u001b[34mdplyr\u001b[39m::\u001b[32mfilter()\u001b[39m masks \u001b[34mstats\u001b[39m::filter()\n",
      "\u001b[31m✖\u001b[39m \u001b[34mdplyr\u001b[39m::\u001b[32mlag()\u001b[39m    masks \u001b[34mstats\u001b[39m::lag()\n",
      "\n"
     ]
    }
   ],
   "source": [
    "library(tidyverse)"
   ]
  },
  {
   "cell_type": "code",
   "execution_count": 2,
   "metadata": {},
   "outputs": [
    {
     "name": "stderr",
     "output_type": "stream",
     "text": [
      "\n",
      "Attaching package: ‘magrittr’\n",
      "\n",
      "\n",
      "The following object is masked from ‘package:purrr’:\n",
      "\n",
      "    set_names\n",
      "\n",
      "\n",
      "The following object is masked from ‘package:tidyr’:\n",
      "\n",
      "    extract\n",
      "\n",
      "\n"
     ]
    },
    {
     "ename": "ERROR",
     "evalue": "Error in library(statistics): there is no package called ‘statistics’\n",
     "output_type": "error",
     "traceback": [
      "Error in library(statistics): there is no package called ‘statistics’\nTraceback:\n",
      "1. library(statistics)"
     ]
    }
   ],
   "source": [
    "# install.packages(\"magrittr\")\n",
    "# install.packages(\"purrr\")\n",
    "library(dplyr)\n",
    "library(magrittr) # better handling of pipes\n",
    "library(purrr)\n",
    "library(statistics)"
   ]
  },
  {
   "cell_type": "code",
   "execution_count": 15,
   "metadata": {},
   "outputs": [
    {
     "name": "stderr",
     "output_type": "stream",
     "text": [
      "Parsed with column specification:\n",
      "cols(\n",
      "  age = \u001b[31mcol_character()\u001b[39m,\n",
      "  year = \u001b[32mcol_double()\u001b[39m,\n",
      "  active_claims = \u001b[32mcol_double()\u001b[39m,\n",
      "  New_claims = \u001b[32mcol_double()\u001b[39m\n",
      ")\n",
      "\n",
      "Parsed with column specification:\n",
      "cols(\n",
      "  ethnicity = \u001b[31mcol_character()\u001b[39m,\n",
      "  year = \u001b[32mcol_double()\u001b[39m,\n",
      "  active_claims = \u001b[32mcol_double()\u001b[39m,\n",
      "  New_claims = \u001b[32mcol_double()\u001b[39m\n",
      ")\n",
      "\n",
      "Parsed with column specification:\n",
      "cols(\n",
      "  gender = \u001b[31mcol_character()\u001b[39m,\n",
      "  year = \u001b[32mcol_double()\u001b[39m,\n",
      "  active_claims = \u001b[32mcol_double()\u001b[39m,\n",
      "  New_claims = \u001b[32mcol_double()\u001b[39m\n",
      ")\n",
      "\n",
      "Parsed with column specification:\n",
      "cols(\n",
      "  month = \u001b[31mcol_character()\u001b[39m,\n",
      "  year = \u001b[32mcol_double()\u001b[39m,\n",
      "  active_claims = \u001b[32mcol_double()\u001b[39m,\n",
      "  New_claims = \u001b[32mcol_double()\u001b[39m\n",
      ")\n",
      "\n",
      "Parsed with column specification:\n",
      "cols(\n",
      "  region = \u001b[31mcol_character()\u001b[39m,\n",
      "  year = \u001b[32mcol_double()\u001b[39m,\n",
      "  active_claims = \u001b[32mcol_double()\u001b[39m,\n",
      "  New_claims = \u001b[32mcol_double()\u001b[39m\n",
      ")\n",
      "\n",
      "Parsed with column specification:\n",
      "cols(\n",
      "  road_factor = \u001b[31mcol_character()\u001b[39m,\n",
      "  year = \u001b[32mcol_double()\u001b[39m,\n",
      "  active_claims = \u001b[32mcol_double()\u001b[39m,\n",
      "  New_claims = \u001b[32mcol_double()\u001b[39m\n",
      ")\n",
      "\n",
      "Parsed with column specification:\n",
      "cols(\n",
      "  Year = \u001b[32mcol_double()\u001b[39m,\n",
      "  Month = \u001b[31mcol_character()\u001b[39m,\n",
      "  `Affected Area` = \u001b[31mcol_character()\u001b[39m,\n",
      "  `Weather Event` = \u001b[31mcol_character()\u001b[39m,\n",
      "  Description = \u001b[31mcol_character()\u001b[39m\n",
      ")\n",
      "\n"
     ]
    }
   ],
   "source": [
    "age <- \"age.csv\" %>%\n",
    "              read_csv() \n",
    "ethnicity <- \"ethnicity.csv\" %>%\n",
    "              read_csv() \n",
    "gender <- \"gender.csv\" %>%\n",
    "              read_csv()  \n",
    "month <- \"month.csv\" %>%\n",
    "              read_csv() \n",
    "region <- \"region.csv\" %>%\n",
    "              read_csv() \n",
    "road <- \"road.csv\" %>%\n",
    "              read_csv() \n",
    "weather <- \"weather.csv\" %>%\n",
    "              read_csv() "
   ]
  },
  {
   "cell_type": "code",
   "execution_count": 16,
   "metadata": {},
   "outputs": [],
   "source": [
    "#need to change column name of Weather Event and Affected Area to one word \n",
    "\n",
    "weather <- weather %>% rename (weather_event = \"Weather Event\") %>%\n",
    "    rename (affected_area = \"Affected Area\") %>%\n",
    "    rename (year = \"Year\")\n"
   ]
  },
  {
   "cell_type": "code",
   "execution_count": 17,
   "metadata": {},
   "outputs": [
    {
     "name": "stderr",
     "output_type": "stream",
     "text": [
      "`summarise()` ungrouping output (override with `.groups` argument)\n",
      "\n"
     ]
    }
   ],
   "source": [
    "#Group weather dataframe by year and collect all events in particular year in a new column \n",
    "weather_by_year <- weather %>%\n",
    "    group_by(year) %>%\n",
    "    summarise(weather_event = paste(weather_event, collapse = \",\"))"
   ]
  },
  {
   "cell_type": "code",
   "execution_count": 18,
   "metadata": {},
   "outputs": [
    {
     "data": {
      "text/html": [
       "<table>\n",
       "<caption>A tibble: 11 × 2</caption>\n",
       "<thead>\n",
       "\t<tr><th scope=col>year</th><th scope=col>weather_event</th></tr>\n",
       "\t<tr><th scope=col>&lt;dbl&gt;</th><th scope=col>&lt;chr&gt;</th></tr>\n",
       "</thead>\n",
       "<tbody>\n",
       "\t<tr><td>2010</td><td>Flood,Storm,Flood,Flood,Flood,Flood,Storm,Flood,Flood,Flood,Winds,Winds,Storm,Storm,Flood,Flood                                                      </td></tr>\n",
       "\t<tr><td>2011</td><td>Heavy Rain, Flood,Heavy Rain, Flood,Flood, Winds,Flood, Winds,Snowfall,Snowfall,Tornado,Heavy Rain, Winds,Heavy Rain, Winds,Tornado,Flood,Storm,Flood</td></tr>\n",
       "\t<tr><td>2012</td><td>Tornado,Storm,Weather Bomb                                                                                                                           </td></tr>\n",
       "\t<tr><td>2013</td><td>Storm,Storm,Storm,Storm,Storm                                                                                                                        </td></tr>\n",
       "\t<tr><td>2014</td><td>Storm,Storm,Storm,Storm,Storm                                                                                                                        </td></tr>\n",
       "\t<tr><td>2015</td><td>Storm,Storm,Storm,Flood,Tornado,Flood                                                                                                                </td></tr>\n",
       "\t<tr><td>2016</td><td>Cold Snap,Storm                                                                                                                                      </td></tr>\n",
       "\t<tr><td>2017</td><td>Flood,Storm,Storm, Cyclone,Cyclone,Heavy Rain, Flood                                                                                                 </td></tr>\n",
       "\t<tr><td>2018</td><td>Storm,Storm,Cyclone,Cyclone,Storm                                                                                                                    </td></tr>\n",
       "\t<tr><td>2019</td><td>Storm,Hail,Storm,Flood                                                                                                                               </td></tr>\n",
       "\t<tr><td>2020</td><td>Flood                                                                                                                                                </td></tr>\n",
       "</tbody>\n",
       "</table>\n"
      ],
      "text/latex": [
       "A tibble: 11 × 2\n",
       "\\begin{tabular}{ll}\n",
       " year & weather\\_event\\\\\n",
       " <dbl> & <chr>\\\\\n",
       "\\hline\n",
       "\t 2010 & Flood,Storm,Flood,Flood,Flood,Flood,Storm,Flood,Flood,Flood,Winds,Winds,Storm,Storm,Flood,Flood                                                      \\\\\n",
       "\t 2011 & Heavy Rain, Flood,Heavy Rain, Flood,Flood, Winds,Flood, Winds,Snowfall,Snowfall,Tornado,Heavy Rain, Winds,Heavy Rain, Winds,Tornado,Flood,Storm,Flood\\\\\n",
       "\t 2012 & Tornado,Storm,Weather Bomb                                                                                                                           \\\\\n",
       "\t 2013 & Storm,Storm,Storm,Storm,Storm                                                                                                                        \\\\\n",
       "\t 2014 & Storm,Storm,Storm,Storm,Storm                                                                                                                        \\\\\n",
       "\t 2015 & Storm,Storm,Storm,Flood,Tornado,Flood                                                                                                                \\\\\n",
       "\t 2016 & Cold Snap,Storm                                                                                                                                      \\\\\n",
       "\t 2017 & Flood,Storm,Storm, Cyclone,Cyclone,Heavy Rain, Flood                                                                                                 \\\\\n",
       "\t 2018 & Storm,Storm,Cyclone,Cyclone,Storm                                                                                                                    \\\\\n",
       "\t 2019 & Storm,Hail,Storm,Flood                                                                                                                               \\\\\n",
       "\t 2020 & Flood                                                                                                                                                \\\\\n",
       "\\end{tabular}\n"
      ],
      "text/markdown": [
       "\n",
       "A tibble: 11 × 2\n",
       "\n",
       "| year &lt;dbl&gt; | weather_event &lt;chr&gt; |\n",
       "|---|---|\n",
       "| 2010 | Flood,Storm,Flood,Flood,Flood,Flood,Storm,Flood,Flood,Flood,Winds,Winds,Storm,Storm,Flood,Flood                                                       |\n",
       "| 2011 | Heavy Rain, Flood,Heavy Rain, Flood,Flood, Winds,Flood, Winds,Snowfall,Snowfall,Tornado,Heavy Rain, Winds,Heavy Rain, Winds,Tornado,Flood,Storm,Flood |\n",
       "| 2012 | Tornado,Storm,Weather Bomb                                                                                                                            |\n",
       "| 2013 | Storm,Storm,Storm,Storm,Storm                                                                                                                         |\n",
       "| 2014 | Storm,Storm,Storm,Storm,Storm                                                                                                                         |\n",
       "| 2015 | Storm,Storm,Storm,Flood,Tornado,Flood                                                                                                                 |\n",
       "| 2016 | Cold Snap,Storm                                                                                                                                       |\n",
       "| 2017 | Flood,Storm,Storm, Cyclone,Cyclone,Heavy Rain, Flood                                                                                                  |\n",
       "| 2018 | Storm,Storm,Cyclone,Cyclone,Storm                                                                                                                     |\n",
       "| 2019 | Storm,Hail,Storm,Flood                                                                                                                                |\n",
       "| 2020 | Flood                                                                                                                                                 |\n",
       "\n"
      ],
      "text/plain": [
       "   year\n",
       "1  2010\n",
       "2  2011\n",
       "3  2012\n",
       "4  2013\n",
       "5  2014\n",
       "6  2015\n",
       "7  2016\n",
       "8  2017\n",
       "9  2018\n",
       "10 2019\n",
       "11 2020\n",
       "   weather_event                                                                                                                                        \n",
       "1  Flood,Storm,Flood,Flood,Flood,Flood,Storm,Flood,Flood,Flood,Winds,Winds,Storm,Storm,Flood,Flood                                                      \n",
       "2  Heavy Rain, Flood,Heavy Rain, Flood,Flood, Winds,Flood, Winds,Snowfall,Snowfall,Tornado,Heavy Rain, Winds,Heavy Rain, Winds,Tornado,Flood,Storm,Flood\n",
       "3  Tornado,Storm,Weather Bomb                                                                                                                           \n",
       "4  Storm,Storm,Storm,Storm,Storm                                                                                                                        \n",
       "5  Storm,Storm,Storm,Storm,Storm                                                                                                                        \n",
       "6  Storm,Storm,Storm,Flood,Tornado,Flood                                                                                                                \n",
       "7  Cold Snap,Storm                                                                                                                                      \n",
       "8  Flood,Storm,Storm, Cyclone,Cyclone,Heavy Rain, Flood                                                                                                 \n",
       "9  Storm,Storm,Cyclone,Cyclone,Storm                                                                                                                    \n",
       "10 Storm,Hail,Storm,Flood                                                                                                                               \n",
       "11 Flood                                                                                                                                                "
      ]
     },
     "metadata": {},
     "output_type": "display_data"
    }
   ],
   "source": [
    "weather_by_year\n",
    "# Double values seen below in weather_event column "
   ]
  },
  {
   "cell_type": "code",
   "execution_count": 19,
   "metadata": {},
   "outputs": [
    {
     "name": "stderr",
     "output_type": "stream",
     "text": [
      "`summarise()` ungrouping output (override with `.groups` argument)\n",
      "\n"
     ]
    },
    {
     "data": {
      "text/html": [
       "<table>\n",
       "<caption>A tibble: 11 × 2</caption>\n",
       "<thead>\n",
       "\t<tr><th scope=col>year</th><th scope=col>weather_event</th></tr>\n",
       "\t<tr><th scope=col>&lt;dbl&gt;</th><th scope=col>&lt;chr&gt;</th></tr>\n",
       "</thead>\n",
       "<tbody>\n",
       "\t<tr><td>2010</td><td>Flood,Storm,Winds                            </td></tr>\n",
       "\t<tr><td>2011</td><td>Heavy Rain,Flood,Winds,Snowfall,Tornado,Storm</td></tr>\n",
       "\t<tr><td>2012</td><td>Tornado,Storm,Weather Bomb                   </td></tr>\n",
       "\t<tr><td>2013</td><td>Storm                                        </td></tr>\n",
       "\t<tr><td>2014</td><td>Storm                                        </td></tr>\n",
       "\t<tr><td>2015</td><td>Storm,Flood,Tornado                          </td></tr>\n",
       "\t<tr><td>2016</td><td>Cold Snap,Storm                              </td></tr>\n",
       "\t<tr><td>2017</td><td>Flood,Storm,Cyclone,Heavy Rain               </td></tr>\n",
       "\t<tr><td>2018</td><td>Storm,Cyclone                                </td></tr>\n",
       "\t<tr><td>2019</td><td>Storm,Hail,Flood                             </td></tr>\n",
       "\t<tr><td>2020</td><td>Flood                                        </td></tr>\n",
       "</tbody>\n",
       "</table>\n"
      ],
      "text/latex": [
       "A tibble: 11 × 2\n",
       "\\begin{tabular}{ll}\n",
       " year & weather\\_event\\\\\n",
       " <dbl> & <chr>\\\\\n",
       "\\hline\n",
       "\t 2010 & Flood,Storm,Winds                            \\\\\n",
       "\t 2011 & Heavy Rain,Flood,Winds,Snowfall,Tornado,Storm\\\\\n",
       "\t 2012 & Tornado,Storm,Weather Bomb                   \\\\\n",
       "\t 2013 & Storm                                        \\\\\n",
       "\t 2014 & Storm                                        \\\\\n",
       "\t 2015 & Storm,Flood,Tornado                          \\\\\n",
       "\t 2016 & Cold Snap,Storm                              \\\\\n",
       "\t 2017 & Flood,Storm,Cyclone,Heavy Rain               \\\\\n",
       "\t 2018 & Storm,Cyclone                                \\\\\n",
       "\t 2019 & Storm,Hail,Flood                             \\\\\n",
       "\t 2020 & Flood                                        \\\\\n",
       "\\end{tabular}\n"
      ],
      "text/markdown": [
       "\n",
       "A tibble: 11 × 2\n",
       "\n",
       "| year &lt;dbl&gt; | weather_event &lt;chr&gt; |\n",
       "|---|---|\n",
       "| 2010 | Flood,Storm,Winds                             |\n",
       "| 2011 | Heavy Rain,Flood,Winds,Snowfall,Tornado,Storm |\n",
       "| 2012 | Tornado,Storm,Weather Bomb                    |\n",
       "| 2013 | Storm                                         |\n",
       "| 2014 | Storm                                         |\n",
       "| 2015 | Storm,Flood,Tornado                           |\n",
       "| 2016 | Cold Snap,Storm                               |\n",
       "| 2017 | Flood,Storm,Cyclone,Heavy Rain                |\n",
       "| 2018 | Storm,Cyclone                                 |\n",
       "| 2019 | Storm,Hail,Flood                              |\n",
       "| 2020 | Flood                                         |\n",
       "\n"
      ],
      "text/plain": [
       "   year weather_event                                \n",
       "1  2010 Flood,Storm,Winds                            \n",
       "2  2011 Heavy Rain,Flood,Winds,Snowfall,Tornado,Storm\n",
       "3  2012 Tornado,Storm,Weather Bomb                   \n",
       "4  2013 Storm                                        \n",
       "5  2014 Storm                                        \n",
       "6  2015 Storm,Flood,Tornado                          \n",
       "7  2016 Cold Snap,Storm                              \n",
       "8  2017 Flood,Storm,Cyclone,Heavy Rain               \n",
       "9  2018 Storm,Cyclone                                \n",
       "10 2019 Storm,Hail,Flood                             \n",
       "11 2020 Flood                                        "
      ]
     },
     "metadata": {},
     "output_type": "display_data"
    }
   ],
   "source": [
    "# remove duplicated values in weather_event column\n",
    "weather_by_year <- weather_by_year %>%\n",
    "    # remove spacing after commas\n",
    "    separate_rows(weather_event, sep = \", \") %>%\n",
    "    separate_rows(weather_event, sep = \",\") %>%\n",
    "    group_by(year) %>%\n",
    "    summarise(weather_event = paste(unique(weather_event), collapse = \",\"))\n",
    "\n",
    "weather_by_year "
   ]
  },
  {
   "cell_type": "code",
   "execution_count": 20,
   "metadata": {},
   "outputs": [
    {
     "name": "stderr",
     "output_type": "stream",
     "text": [
      "`summarise()` ungrouping output (override with `.groups` argument)\n",
      "\n"
     ]
    }
   ],
   "source": [
    "#group Acc claims Month df by Year , then apply sum aggregation on claims column to give year-wise total claims (sum total of all the months claims of year) made \n",
    "month <- month %>%\n",
    "    group_by(year)%>%\n",
    "    summarise(new_claims_total = sum(New_claims))"
   ]
  },
  {
   "cell_type": "code",
   "execution_count": 21,
   "metadata": {},
   "outputs": [
    {
     "data": {
      "text/html": [
       "<table>\n",
       "<caption>A tibble: 7 × 2</caption>\n",
       "<thead>\n",
       "\t<tr><th scope=col>year</th><th scope=col>new_claims_total</th></tr>\n",
       "\t<tr><th scope=col>&lt;dbl&gt;</th><th scope=col>&lt;dbl&gt;</th></tr>\n",
       "</thead>\n",
       "<tbody>\n",
       "\t<tr><td>2011</td><td>32299</td></tr>\n",
       "\t<tr><td>2012</td><td>31681</td></tr>\n",
       "\t<tr><td>2013</td><td>32445</td></tr>\n",
       "\t<tr><td>2014</td><td>32498</td></tr>\n",
       "\t<tr><td>2015</td><td>36145</td></tr>\n",
       "\t<tr><td>2016</td><td>37878</td></tr>\n",
       "\t<tr><td>2017</td><td>38596</td></tr>\n",
       "</tbody>\n",
       "</table>\n"
      ],
      "text/latex": [
       "A tibble: 7 × 2\n",
       "\\begin{tabular}{ll}\n",
       " year & new\\_claims\\_total\\\\\n",
       " <dbl> & <dbl>\\\\\n",
       "\\hline\n",
       "\t 2011 & 32299\\\\\n",
       "\t 2012 & 31681\\\\\n",
       "\t 2013 & 32445\\\\\n",
       "\t 2014 & 32498\\\\\n",
       "\t 2015 & 36145\\\\\n",
       "\t 2016 & 37878\\\\\n",
       "\t 2017 & 38596\\\\\n",
       "\\end{tabular}\n"
      ],
      "text/markdown": [
       "\n",
       "A tibble: 7 × 2\n",
       "\n",
       "| year &lt;dbl&gt; | new_claims_total &lt;dbl&gt; |\n",
       "|---|---|\n",
       "| 2011 | 32299 |\n",
       "| 2012 | 31681 |\n",
       "| 2013 | 32445 |\n",
       "| 2014 | 32498 |\n",
       "| 2015 | 36145 |\n",
       "| 2016 | 37878 |\n",
       "| 2017 | 38596 |\n",
       "\n"
      ],
      "text/plain": [
       "  year new_claims_total\n",
       "1 2011 32299           \n",
       "2 2012 31681           \n",
       "3 2013 32445           \n",
       "4 2014 32498           \n",
       "5 2015 36145           \n",
       "6 2016 37878           \n",
       "7 2017 38596           "
      ]
     },
     "metadata": {},
     "output_type": "display_data"
    }
   ],
   "source": [
    "month\n"
   ]
  },
  {
   "cell_type": "code",
   "execution_count": 22,
   "metadata": {},
   "outputs": [
    {
     "data": {
      "text/html": [
       "<table>\n",
       "<caption>A data.frame: 11 × 3</caption>\n",
       "<thead>\n",
       "\t<tr><th scope=col>year</th><th scope=col>new_claims_total</th><th scope=col>weather_event</th></tr>\n",
       "\t<tr><th scope=col>&lt;dbl&gt;</th><th scope=col>&lt;dbl&gt;</th><th scope=col>&lt;chr&gt;</th></tr>\n",
       "</thead>\n",
       "<tbody>\n",
       "\t<tr><td>2017</td><td>38596</td><td>Flood,Storm,Cyclone,Heavy Rain               </td></tr>\n",
       "\t<tr><td>2016</td><td>37878</td><td>Cold Snap,Storm                              </td></tr>\n",
       "\t<tr><td>2015</td><td>36145</td><td>Storm,Flood,Tornado                          </td></tr>\n",
       "\t<tr><td>2014</td><td>32498</td><td>Storm                                        </td></tr>\n",
       "\t<tr><td>2013</td><td>32445</td><td>Storm                                        </td></tr>\n",
       "\t<tr><td>2011</td><td>32299</td><td>Heavy Rain,Flood,Winds,Snowfall,Tornado,Storm</td></tr>\n",
       "\t<tr><td>2012</td><td>31681</td><td>Tornado,Storm,Weather Bomb                   </td></tr>\n",
       "\t<tr><td>2010</td><td>   NA</td><td>Flood,Storm,Winds                            </td></tr>\n",
       "\t<tr><td>2018</td><td>   NA</td><td>Storm,Cyclone                                </td></tr>\n",
       "\t<tr><td>2019</td><td>   NA</td><td>Storm,Hail,Flood                             </td></tr>\n",
       "\t<tr><td>2020</td><td>   NA</td><td>Flood                                        </td></tr>\n",
       "</tbody>\n",
       "</table>\n"
      ],
      "text/latex": [
       "A data.frame: 11 × 3\n",
       "\\begin{tabular}{lll}\n",
       " year & new\\_claims\\_total & weather\\_event\\\\\n",
       " <dbl> & <dbl> & <chr>\\\\\n",
       "\\hline\n",
       "\t 2017 & 38596 & Flood,Storm,Cyclone,Heavy Rain               \\\\\n",
       "\t 2016 & 37878 & Cold Snap,Storm                              \\\\\n",
       "\t 2015 & 36145 & Storm,Flood,Tornado                          \\\\\n",
       "\t 2014 & 32498 & Storm                                        \\\\\n",
       "\t 2013 & 32445 & Storm                                        \\\\\n",
       "\t 2011 & 32299 & Heavy Rain,Flood,Winds,Snowfall,Tornado,Storm\\\\\n",
       "\t 2012 & 31681 & Tornado,Storm,Weather Bomb                   \\\\\n",
       "\t 2010 &    NA & Flood,Storm,Winds                            \\\\\n",
       "\t 2018 &    NA & Storm,Cyclone                                \\\\\n",
       "\t 2019 &    NA & Storm,Hail,Flood                             \\\\\n",
       "\t 2020 &    NA & Flood                                        \\\\\n",
       "\\end{tabular}\n"
      ],
      "text/markdown": [
       "\n",
       "A data.frame: 11 × 3\n",
       "\n",
       "| year &lt;dbl&gt; | new_claims_total &lt;dbl&gt; | weather_event &lt;chr&gt; |\n",
       "|---|---|---|\n",
       "| 2017 | 38596 | Flood,Storm,Cyclone,Heavy Rain                |\n",
       "| 2016 | 37878 | Cold Snap,Storm                               |\n",
       "| 2015 | 36145 | Storm,Flood,Tornado                           |\n",
       "| 2014 | 32498 | Storm                                         |\n",
       "| 2013 | 32445 | Storm                                         |\n",
       "| 2011 | 32299 | Heavy Rain,Flood,Winds,Snowfall,Tornado,Storm |\n",
       "| 2012 | 31681 | Tornado,Storm,Weather Bomb                    |\n",
       "| 2010 |    NA | Flood,Storm,Winds                             |\n",
       "| 2018 |    NA | Storm,Cyclone                                 |\n",
       "| 2019 |    NA | Storm,Hail,Flood                              |\n",
       "| 2020 |    NA | Flood                                         |\n",
       "\n"
      ],
      "text/plain": [
       "   year new_claims_total weather_event                                \n",
       "1  2017 38596            Flood,Storm,Cyclone,Heavy Rain               \n",
       "2  2016 37878            Cold Snap,Storm                              \n",
       "3  2015 36145            Storm,Flood,Tornado                          \n",
       "4  2014 32498            Storm                                        \n",
       "5  2013 32445            Storm                                        \n",
       "6  2011 32299            Heavy Rain,Flood,Winds,Snowfall,Tornado,Storm\n",
       "7  2012 31681            Tornado,Storm,Weather Bomb                   \n",
       "8  2010    NA            Flood,Storm,Winds                            \n",
       "9  2018    NA            Storm,Cyclone                                \n",
       "10 2019    NA            Storm,Hail,Flood                             \n",
       "11 2020    NA            Flood                                        "
      ]
     },
     "metadata": {},
     "output_type": "display_data"
    }
   ],
   "source": [
    "# Joining month df to weather dataframe \n",
    "weather_months_joined <- merge(x = month, y = weather_by_year, by = \"year\", all = TRUE)%>%\n",
    "    arrange(desc(new_claims_total))\n",
    "\n",
    "weather_months_joined"
   ]
  },
  {
   "cell_type": "code",
   "execution_count": 23,
   "metadata": {},
   "outputs": [
    {
     "data": {
      "text/html": [
       "<table>\n",
       "<caption>A data.frame: 11 × 4</caption>\n",
       "<thead>\n",
       "\t<tr><th scope=col>year</th><th scope=col>new_claims_total</th><th scope=col>weather_event</th><th scope=col>total_weather</th></tr>\n",
       "\t<tr><th scope=col>&lt;dbl&gt;</th><th scope=col>&lt;dbl&gt;</th><th scope=col>&lt;chr&gt;</th><th scope=col>&lt;chr&gt;</th></tr>\n",
       "</thead>\n",
       "<tbody>\n",
       "\t<tr><td>2017</td><td>38596</td><td>Flood,Storm,Cyclone,Heavy Rain               </td><td>4</td></tr>\n",
       "\t<tr><td>2016</td><td>37878</td><td>Cold Snap,Storm                              </td><td>2</td></tr>\n",
       "\t<tr><td>2015</td><td>36145</td><td>Storm,Flood,Tornado                          </td><td>3</td></tr>\n",
       "\t<tr><td>2014</td><td>32498</td><td>Storm                                        </td><td>1</td></tr>\n",
       "\t<tr><td>2013</td><td>32445</td><td>Storm                                        </td><td>1</td></tr>\n",
       "\t<tr><td>2011</td><td>32299</td><td>Heavy Rain,Flood,Winds,Snowfall,Tornado,Storm</td><td>6</td></tr>\n",
       "\t<tr><td>2012</td><td>31681</td><td>Tornado,Storm,Weather Bomb                   </td><td>3</td></tr>\n",
       "\t<tr><td>2010</td><td>   NA</td><td>Flood,Storm,Winds                            </td><td>3</td></tr>\n",
       "\t<tr><td>2018</td><td>   NA</td><td>Storm,Cyclone                                </td><td>2</td></tr>\n",
       "\t<tr><td>2019</td><td>   NA</td><td>Storm,Hail,Flood                             </td><td>3</td></tr>\n",
       "\t<tr><td>2020</td><td>   NA</td><td>Flood                                        </td><td>1</td></tr>\n",
       "</tbody>\n",
       "</table>\n"
      ],
      "text/latex": [
       "A data.frame: 11 × 4\n",
       "\\begin{tabular}{llll}\n",
       " year & new\\_claims\\_total & weather\\_event & total\\_weather\\\\\n",
       " <dbl> & <dbl> & <chr> & <chr>\\\\\n",
       "\\hline\n",
       "\t 2017 & 38596 & Flood,Storm,Cyclone,Heavy Rain                & 4\\\\\n",
       "\t 2016 & 37878 & Cold Snap,Storm                               & 2\\\\\n",
       "\t 2015 & 36145 & Storm,Flood,Tornado                           & 3\\\\\n",
       "\t 2014 & 32498 & Storm                                         & 1\\\\\n",
       "\t 2013 & 32445 & Storm                                         & 1\\\\\n",
       "\t 2011 & 32299 & Heavy Rain,Flood,Winds,Snowfall,Tornado,Storm & 6\\\\\n",
       "\t 2012 & 31681 & Tornado,Storm,Weather Bomb                    & 3\\\\\n",
       "\t 2010 &    NA & Flood,Storm,Winds                             & 3\\\\\n",
       "\t 2018 &    NA & Storm,Cyclone                                 & 2\\\\\n",
       "\t 2019 &    NA & Storm,Hail,Flood                              & 3\\\\\n",
       "\t 2020 &    NA & Flood                                         & 1\\\\\n",
       "\\end{tabular}\n"
      ],
      "text/markdown": [
       "\n",
       "A data.frame: 11 × 4\n",
       "\n",
       "| year &lt;dbl&gt; | new_claims_total &lt;dbl&gt; | weather_event &lt;chr&gt; | total_weather &lt;chr&gt; |\n",
       "|---|---|---|---|\n",
       "| 2017 | 38596 | Flood,Storm,Cyclone,Heavy Rain                | 4 |\n",
       "| 2016 | 37878 | Cold Snap,Storm                               | 2 |\n",
       "| 2015 | 36145 | Storm,Flood,Tornado                           | 3 |\n",
       "| 2014 | 32498 | Storm                                         | 1 |\n",
       "| 2013 | 32445 | Storm                                         | 1 |\n",
       "| 2011 | 32299 | Heavy Rain,Flood,Winds,Snowfall,Tornado,Storm | 6 |\n",
       "| 2012 | 31681 | Tornado,Storm,Weather Bomb                    | 3 |\n",
       "| 2010 |    NA | Flood,Storm,Winds                             | 3 |\n",
       "| 2018 |    NA | Storm,Cyclone                                 | 2 |\n",
       "| 2019 |    NA | Storm,Hail,Flood                              | 3 |\n",
       "| 2020 |    NA | Flood                                         | 1 |\n",
       "\n"
      ],
      "text/plain": [
       "   year new_claims_total weather_event                                \n",
       "1  2017 38596            Flood,Storm,Cyclone,Heavy Rain               \n",
       "2  2016 37878            Cold Snap,Storm                              \n",
       "3  2015 36145            Storm,Flood,Tornado                          \n",
       "4  2014 32498            Storm                                        \n",
       "5  2013 32445            Storm                                        \n",
       "6  2011 32299            Heavy Rain,Flood,Winds,Snowfall,Tornado,Storm\n",
       "7  2012 31681            Tornado,Storm,Weather Bomb                   \n",
       "8  2010    NA            Flood,Storm,Winds                            \n",
       "9  2018    NA            Storm,Cyclone                                \n",
       "10 2019    NA            Storm,Hail,Flood                             \n",
       "11 2020    NA            Flood                                        \n",
       "   total_weather\n",
       "1  4            \n",
       "2  2            \n",
       "3  3            \n",
       "4  1            \n",
       "5  1            \n",
       "6  6            \n",
       "7  3            \n",
       "8  3            \n",
       "9  2            \n",
       "10 3            \n",
       "11 1            "
      ]
     },
     "metadata": {},
     "output_type": "display_data"
    }
   ],
   "source": [
    "#count up total number of events per year \n",
    "total <- c(4,2,3,1,1,6,3,3,2,3,1)\n",
    "\n",
    "weather_months_joined %>% \n",
    "    mutate(total_weather = c(\"4\",\"2\",\"3\",\"1\",\"1\",\"6\",\"3\",\"3\",\"2\",\"3\",\"1\"))"
   ]
  },
  {
   "cell_type": "code",
   "execution_count": 24,
   "metadata": {},
   "outputs": [],
   "source": [
    "#weather_months_joined %>% \n",
    "    #transform(year = as.numeric(year))"
   ]
  },
  {
   "cell_type": "code",
   "execution_count": 25,
   "metadata": {},
   "outputs": [
    {
     "data": {
      "text/html": [
       "<style>\n",
       ".dl-inline {width: auto; margin:0; padding: 0}\n",
       ".dl-inline>dt, .dl-inline>dd {float: none; width: auto; display: inline-block}\n",
       ".dl-inline>dt::after {content: \":\\0020\"; padding-right: .5ex}\n",
       ".dl-inline>dt:not(:first-of-type) {padding-left: .5ex}\n",
       "</style><dl class=dl-inline><dt>year</dt><dd>'numeric'</dd><dt>new_claims_total</dt><dd>'numeric'</dd><dt>weather_event</dt><dd>'character'</dd></dl>\n"
      ],
      "text/latex": [
       "\\begin{description*}\n",
       "\\item[year] 'numeric'\n",
       "\\item[new\\textbackslash{}\\_claims\\textbackslash{}\\_total] 'numeric'\n",
       "\\item[weather\\textbackslash{}\\_event] 'character'\n",
       "\\end{description*}\n"
      ],
      "text/markdown": [
       "year\n",
       ":   'numeric'new_claims_total\n",
       ":   'numeric'weather_event\n",
       ":   'character'\n",
       "\n"
      ],
      "text/plain": [
       "            year new_claims_total    weather_event \n",
       "       \"numeric\"        \"numeric\"      \"character\" "
      ]
     },
     "metadata": {},
     "output_type": "display_data"
    }
   ],
   "source": [
    "sapply(weather_months_joined, class)"
   ]
  },
  {
   "cell_type": "code",
   "execution_count": 26,
   "metadata": {},
   "outputs": [
    {
     "name": "stderr",
     "output_type": "stream",
     "text": [
      "Warning message:\n",
      "“Removed 4 rows containing missing values (position_stack).”\n"
     ]
    },
    {
     "data": {
      "image/png": "[encoded data removed]",
      "text/plain": [
       "plot without title"
      ]
     },
     "metadata": {
      "image/png": {
       "height": 420,
       "width": 420
      }
     },
     "output_type": "display_data"
    }
   ],
   "source": [
    " weather_months_joined%>%\n",
    "  ggplot(aes(x = year, y = new_claims_total)) +\n",
    "  geom_col()"
   ]
  }
 ],
 "metadata": {
  "kernelspec": {
   "display_name": "R",
   "language": "R",
   "name": "ir"
  },
  "language_info": {
   "codemirror_mode": "r",
   "file_extension": ".r",
   "mimetype": "text/x-r-source",
   "name": "R",
   "pygments_lexer": "r",
   "version": "4.0.2"
  }
 },
 "nbformat": 4,
 "nbformat_minor": 2
}
